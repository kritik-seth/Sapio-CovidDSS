{
 "cells": [
  {
   "cell_type": "code",
   "execution_count": null,
   "metadata": {},
   "outputs": [],
   "source": [
    "import pandas as pd\n",
    "import numpy as np\n",
    "import gspread\n",
    "from oauth2client.service_account import ServiceAccountCredentials\n",
    "\n",
    "def connect_dcm(**kwargs):\n",
    "    \"\"\"\n",
    "    Connects to Master Sheet\n",
    "    \n",
    "    Arguments required:\n",
    "    1. 'sheet_name' type str\n",
    "    2. 'sheet_no' type int\n",
    "    \n",
    "    Returns:\n",
    "    1. gspread.models.Worksheet\n",
    "    \"\"\"\n",
    "    import gspread\n",
    "    from oauth2client.service_account import ServiceAccountCredentials\n",
    "    scope = ['https://spreadsheets.google.com/feeds','https://www.googleapis.com/auth/drive']\n",
    "\n",
    "    creds = ServiceAccountCredentials.from_json_keyfile_name(kwargs['cred'], scope)\n",
    "    gc = gspread.authorize(creds)\n",
    "\n",
    "    \n",
    "    if 'sheet_name' and 'sheet_no' in kwargs:\n",
    "        wks = gc.open(kwargs['sheet_name']).get_worksheet(kwargs['sheet_no'])\n",
    "        return wks\n",
    "    \n",
    "    else:\n",
    "        print('Arguments required:')\n",
    "        print('1. \\'sheet_name\\' type str')\n",
    "        print('2. \\'sheet_no\\' type int')\n",
    "\n",
    "\n",
    "def update_url(**kwargs):\n",
    "    \"\"\"\n",
    "    Updates URL of Sheets which are ready \n",
    "    \n",
    "    Arguments required:\n",
    "    1. 'worksheet' type gspread.models.Worksheet'\n",
    "    OR\n",
    "    2. 'sheet_name' type str and 'sheet_no' type int\n",
    "    \n",
    "    Optional:\n",
    "    1. 'status_check' type bool\n",
    "        \n",
    "    Returns:\n",
    "    1. DataFrame\n",
    "    \"\"\"\n",
    "    import gspread\n",
    "    from oauth2client.service_account import ServiceAccountCredentials\n",
    "\n",
    "    scope = ['https://spreadsheets.google.com/feeds','https://www.googleapis.com/auth/drive']\n",
    "\n",
    "    creds = ServiceAccountCredentials.from_json_keyfile_name(kwargs['cred'], scope)\n",
    "    gc = gspread.authorize(creds)\n",
    "    \n",
    "    if ('worksheet' in kwargs) or ('sheet_name' and 'sheet_no' in kwargs):\n",
    "        \n",
    "        cols = [1,5]\n",
    "        \n",
    "        if 'worksheet' in kwargs:\n",
    "            url_list = kwargs['worksheet'].get_all_values()\n",
    "        \n",
    "        elif 'sheet_name' and 'sheet_no' in kwargs:\n",
    "            wks = gc.open(kwargs['sheet_name']).get_worksheet(kwargs['sheet_no'])\n",
    "            url_list = wks.get_all_values()\n",
    "                \n",
    "        url_df = pd.DataFrame(url_list)   \n",
    "        url_df.columns = url_df.loc[3]\n",
    "        url_df = url_df.drop([0,1,2,3,4,5],axis=0)\n",
    "        url_df = url_df[['REGION','Spreadsheet']]\n",
    "        \n",
    "        return url_df\n",
    "        \n",
    "        #if 'status_check' in kwargs:\n",
    "        #    \n",
    "        #    if kwargs['status_check']:\n",
    "        #        url_df = url_df.loc[url_df['Status'] == 'Y']\n",
    "        #        return url_df\n",
    "        #    else:\n",
    "        #        return url_df\n",
    "        \n",
    "        #else:\n",
    "        #    return url_df\n",
    "    \n",
    "    else:\n",
    "        print('Arguments required:')\n",
    "        print('\\'worksheet\\' type gspread.models.Worksheet')\n",
    "        print('OR')\n",
    "        print('\\'sheet_name\\' type str, \\'sheet_no\\' type int')\n",
    "    \n",
    "\n",
    "def select_region(**kwargs):\n",
    "    \"\"\"\n",
    "    Selects URL based on REGION\n",
    "    \n",
    "    Arguments required:\n",
    "    1. 'region' type str\n",
    "    2. 'url' type DataFrame\n",
    "    \n",
    "    Returns:\n",
    "    1. DataFrame\n",
    "    \"\"\"\n",
    "    import gspread\n",
    "    from oauth2client.service_account import ServiceAccountCredentials\n",
    "    scope = ['https://spreadsheets.google.com/feeds','https://www.googleapis.com/auth/drive']\n",
    "\n",
    "    creds = ServiceAccountCredentials.from_json_keyfile_name(kwargs['cred'], scope)\n",
    "    gc = gspread.authorize(creds)\n",
    "\n",
    "    \n",
    "    if 'region' in kwargs:\n",
    "        region = kwargs['region']\n",
    "        if 'url' in kwargs:\n",
    "            url = kwargs['url']\n",
    "            region_list = list(url['REGION'])\n",
    "            if region in region_list:\n",
    "                url = url.loc[url['REGION']==region]\n",
    "            else:\n",
    "                print(f'{region} is not present in the list, please check again!')\n",
    "            \n",
    "            \n",
    "        else:\n",
    "            print('Argument required \\'url\\' type DataFrame')\n",
    "    else:\n",
    "            print('Argument required \\'region\\' type str')\n",
    "            \n",
    "    return url.iat[0,1]\n",
    "            \n",
    "\n",
    "def get_url_data(**kwargs):\n",
    "    \"\"\"\n",
    "    Extracts data from URL\n",
    "    \n",
    "    Arguments required:\n",
    "    1. 'url' type str\n",
    "    2. 'sheet_no' type int\n",
    "    \n",
    "    Returns:\n",
    "    1. DataFrame\n",
    "    2. gspread.models.Worksheet\n",
    "    \"\"\"\n",
    "    import gspread\n",
    "    from oauth2client.service_account import ServiceAccountCredentials\n",
    "    scope = ['https://spreadsheets.google.com/feeds','https://www.googleapis.com/auth/drive']\n",
    "\n",
    "    creds = ServiceAccountCredentials.from_json_keyfile_name(kwargs['cred'], scope)\n",
    "    gc = gspread.authorize(creds)\n",
    "    \n",
    "    \n",
    "    if 'url' and 'sheet_no' in kwargs:\n",
    "        sht_val = []\n",
    "        sht = gc.open_by_url(kwargs['url'])\n",
    "        worksheet = sht.get_worksheet(kwargs['sheet_no'])\n",
    "        sht_val = worksheet.get_all_values()\n",
    "        df = pd.DataFrame(sht_val)\n",
    "        df.columns = df.loc[1]\n",
    "        df = df.drop([0,1],axis=0)\n",
    "        return df, worksheet\n",
    "    \n",
    "    else:\n",
    "        print('Arguments required:')\n",
    "        print('1. \\'url\\' type str')\n",
    "        print('2. \\'sheet_no\\' type int')\n",
    "        \n",
    "\n",
    "def get_data_by_column(**kwargs):\n",
    "    \"\"\"\n",
    "    Extracts certain columns from URL data\n",
    "    \n",
    "    Arguments required:\n",
    "    1. 'col' type list and 'worksheet' type gspread.models.Worksheet\n",
    "    2. 'col' type list, 'url' type str and 'sheet_no' type int\n",
    "    \n",
    "    Returns:\n",
    "    1. DataFrame\n",
    "    \"\"\"\n",
    "    import gspread\n",
    "    from oauth2client.service_account import ServiceAccountCredentials\n",
    "    scope = ['https://spreadsheets.google.com/feeds','https://www.googleapis.com/auth/drive']\n",
    "\n",
    "    creds = ServiceAccountCredentials.from_json_keyfile_name(kwargs['cred'], scope)\n",
    "    gc = gspread.authorize(creds)\n",
    "    \n",
    "    if 'col' in kwargs:\n",
    "    \n",
    "        if 'worksheet' in kwargs:\n",
    "            col_list = []\n",
    "            for i in kwargs['col']:\n",
    "                col_list.append(kwargs['worksheet'].col_values(i))\n",
    "                sheet_df = pd.DataFrame(col_list).T\n",
    "                sheet_df.columns = sheet_df.loc[1]\n",
    "                sheet_df = sheet_df.drop([0,1],axis=0)\n",
    "            return sheet_df\n",
    "        \n",
    "        elif 'url' and 'sheet_no' in kwargs:\n",
    "            sht_val = []\n",
    "            sht = gc.open_by_url(kwargs['url'])\n",
    "            worksheet = sht.get_worksheet(kwargs['sheet_no'])\n",
    "            col_list = []\n",
    "            for i in kwargs['col']:\n",
    "                col_list.append(worksheet.col_values(i))\n",
    "                sheet_df = pd.DataFrame(col_list).T\n",
    "                sheet_df.columns = sheet_df.loc[1]\n",
    "                sheet_df = sheet_df.drop([0,1],axis=0)\n",
    "            return sheet_df\n",
    "        \n",
    "        else:\n",
    "            print('Arguments required:')\n",
    "            print('1. \\'worksheet\\' type gspread.models.Worksheet')\n",
    "            print('2. \\'url\\' type str and \\'sheet_no\\' type int')\n",
    "            \n",
    "    else:\n",
    "        print('Argument required:  \\'col\\' type list')\n",
    "        \n",
    "\n",
    "def get_data(**kwargs):\n",
    "    \"\"\"\n",
    "    Combined data extraction\n",
    "    \n",
    "    Arguments required:\n",
    "    1. 'master_sheet_name' type str\n",
    "    2. 'master_sheet_no' type int\n",
    "    3. 'region_name' type str\n",
    "    4. 'region_sheet_no' type int\n",
    "    5. 'status_check' type bool\n",
    "    \n",
    "    Returns:\n",
    "    1. DataFrame\n",
    "    \n",
    "    \"\"\"\n",
    "    import gspread\n",
    "    from oauth2client.service_account import ServiceAccountCredentials\n",
    "    scope = ['https://spreadsheets.google.com/feeds','https://www.googleapis.com/auth/drive']\n",
    "\n",
    "    creds = ServiceAccountCredentials.from_json_keyfile_name(kwargs['cred'], scope)\n",
    "    gc = gspread.authorize(creds)\n",
    "    \n",
    "    if 'status_check' in kwargs:\n",
    "        url_df = update_url(sheet_name = kwargs['master_sheet_name'], sheet_no = kwargs['master_sheet_no'],\n",
    "                            status_check = kwargs['status_check'], cred = kwargs['cred'])\n",
    "    else:\n",
    "        url_df = update_url(sheet_name = kwargs['master_sheet_name'], sheet_no = kwargs['master_sheet_no'],\n",
    "                            cred = kwargs['cred'])\n",
    "    url = select_region(url = url_df, region = kwargs['region_name'], cred = kwargs['cred'])\n",
    "    sht, wks_url = get_url_data(url = url, sheet_no = kwargs['region_sheet_no'], cred = kwargs['cred'])\n",
    "    \n",
    "    return sht"
   ]
  },
  {
   "cell_type": "markdown",
   "metadata": {},
   "source": [
    "#### Path is the location where Sapio_cred is stored"
   ]
  },
  {
   "cell_type": "code",
   "execution_count": null,
   "metadata": {},
   "outputs": [],
   "source": [
    "path = '/Users/kritik/Downloads/Sapio DSS.json'"
   ]
  },
  {
   "cell_type": "markdown",
   "metadata": {},
   "source": [
    "* Indexing for a cell in google sheet starts from (1,1)\n",
    "* Indexing for a sheet in google sheet starts from (0)"
   ]
  },
  {
   "cell_type": "markdown",
   "metadata": {},
   "source": [
    "#### Get all data of Region at once"
   ]
  },
  {
   "cell_type": "code",
   "execution_count": null,
   "metadata": {},
   "outputs": [],
   "source": [
    "df = get_data(master_sheet_name = 'Data Collection Master',master_sheet_no = 3,\n",
    "              region_name = 'Warangal', region_sheet_no = 0, cred = path)"
   ]
  },
  {
   "cell_type": "markdown",
   "metadata": {},
   "source": [
    "#### Example working of Individual Functions"
   ]
  },
  {
   "cell_type": "code",
   "execution_count": null,
   "metadata": {},
   "outputs": [],
   "source": [
    "name = 'Data Collection Master'\n",
    "no = 3"
   ]
  },
  {
   "cell_type": "markdown",
   "metadata": {},
   "source": [
    "connect_dcm"
   ]
  },
  {
   "cell_type": "code",
   "execution_count": null,
   "metadata": {},
   "outputs": [],
   "source": [
    "wks_dcm = connect_dcm(sheet_name = name, sheet_no = no, cred = path)"
   ]
  },
  {
   "cell_type": "markdown",
   "metadata": {},
   "source": [
    "update_url"
   ]
  },
  {
   "cell_type": "code",
   "execution_count": null,
   "metadata": {},
   "outputs": [],
   "source": [
    "url_df = update_url(worksheet = wks_dcm, cred = path)"
   ]
  },
  {
   "cell_type": "markdown",
   "metadata": {},
   "source": [
    "select_region"
   ]
  },
  {
   "cell_type": "code",
   "execution_count": null,
   "metadata": {},
   "outputs": [],
   "source": [
    "url = select_region(url = url_df, region = 'Delhi', cred = path)"
   ]
  },
  {
   "cell_type": "markdown",
   "metadata": {},
   "source": [
    "get_url_data"
   ]
  },
  {
   "cell_type": "code",
   "execution_count": null,
   "metadata": {},
   "outputs": [],
   "source": [
    "url_sheet_no = 0\n",
    "sht, wks_url = get_url_data(url = url, sheet_no = url_sheet_no, cred = path)"
   ]
  },
  {
   "cell_type": "markdown",
   "metadata": {},
   "source": [
    "get_data_by_column (method1 1, pass worksheet)"
   ]
  },
  {
   "cell_type": "code",
   "execution_count": null,
   "metadata": {},
   "outputs": [],
   "source": [
    "col_list = [3,4,5,10]\n",
    "url_col_df = get_data_by_column(col = col_list, worksheet = wks_url, cred = path)"
   ]
  },
  {
   "cell_type": "markdown",
   "metadata": {},
   "source": [
    "get_data_by_column (method1 2, pass col_list, url and sheet number)"
   ]
  },
  {
   "cell_type": "code",
   "execution_count": null,
   "metadata": {},
   "outputs": [],
   "source": [
    "url_col_df = get_data_by_column(col = col_list, url = url, sheet_no = url_sheet_no, cred = path)"
   ]
  }
 ],
 "metadata": {
  "kernelspec": {
   "display_name": "Python 3",
   "language": "python",
   "name": "python3"
  },
  "language_info": {
   "codemirror_mode": {
    "name": "ipython",
    "version": 3
   },
   "file_extension": ".py",
   "mimetype": "text/x-python",
   "name": "python",
   "nbconvert_exporter": "python",
   "pygments_lexer": "ipython3",
   "version": "3.7.4"
  }
 },
 "nbformat": 4,
 "nbformat_minor": 2
}
